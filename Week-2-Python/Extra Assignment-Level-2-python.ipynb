{
 "cells": [
  {
   "cell_type": "markdown",
   "id": "07eda3ee",
   "metadata": {},
   "source": [
    "# Extra_Assignment_Question-2"
   ]
  },
  {
   "cell_type": "markdown",
   "id": "deeb1b4e",
   "metadata": {},
   "source": [
    "# print 0 to 20 by using range"
   ]
  },
  {
   "cell_type": "code",
   "execution_count": 2,
   "id": "cb21b134",
   "metadata": {},
   "outputs": [
    {
     "name": "stdout",
     "output_type": "stream",
     "text": [
      "0\n",
      "1\n",
      "2\n",
      "3\n",
      "4\n",
      "5\n",
      "6\n",
      "7\n",
      "8\n",
      "9\n",
      "10\n",
      "11\n",
      "12\n",
      "13\n",
      "14\n",
      "15\n",
      "16\n",
      "17\n",
      "18\n",
      "19\n",
      "20\n"
     ]
    }
   ],
   "source": [
    "for n in range(21):\n",
    "    print(n)\n",
    "\n"
   ]
  },
  {
   "cell_type": "markdown",
   "id": "8e656edf",
   "metadata": {},
   "source": [
    "# print range 10 to 20\n"
   ]
  },
  {
   "cell_type": "code",
   "execution_count": 9,
   "id": "91fc1e5a",
   "metadata": {},
   "outputs": [
    {
     "name": "stdout",
     "output_type": "stream",
     "text": [
      "10 11 12 13 14 15 16 17 18 19 "
     ]
    }
   ],
   "source": [
    "for n in range(10,20):\n",
    "    print(n, end=' ')"
   ]
  },
  {
   "cell_type": "markdown",
   "id": "8260ef62",
   "metadata": {},
   "source": [
    "# Print number of items in the list by using 'len'"
   ]
  },
  {
   "cell_type": "code",
   "execution_count": 13,
   "id": "fad6e36f",
   "metadata": {},
   "outputs": [
    {
     "name": "stdout",
     "output_type": "stream",
     "text": [
      "[1, 2, 3, 4, 5]\n",
      "Number of item in the List:\n",
      " 5\n"
     ]
    }
   ],
   "source": [
    "list = [1, 2, 3, 4, 5]\n",
    "print(list)\n",
    "print(\"Number of item in the List:\\n\", len(list))"
   ]
  },
  {
   "cell_type": "markdown",
   "id": "987e235a",
   "metadata": {},
   "source": [
    "# Print each character of a string"
   ]
  },
  {
   "cell_type": "code",
   "execution_count": 1,
   "id": "81bf194a",
   "metadata": {},
   "outputs": [
    {
     "name": "stdout",
     "output_type": "stream",
     "text": [
      "A\n",
      "r\n",
      "t\n",
      "i\n",
      "f\n",
      "i\n",
      "c\n",
      "i\n",
      "a\n",
      "l\n",
      " \n",
      "I\n",
      "n\n",
      "t\n",
      "e\n",
      "l\n",
      "l\n",
      "i\n",
      "g\n",
      "e\n",
      "n\n",
      "c\n",
      "e\n"
     ]
    }
   ],
   "source": [
    "string=\"Artificial Intelligence\"\n",
    "for str in string:\n",
    "    print(str)"
   ]
  },
  {
   "cell_type": "markdown",
   "id": "3a8b6bca",
   "metadata": {},
   "source": [
    "# Print name, age, profession"
   ]
  },
  {
   "cell_type": "code",
   "execution_count": 2,
   "id": "0a1094fc",
   "metadata": {},
   "outputs": [
    {
     "name": "stdout",
     "output_type": "stream",
     "text": [
      "Name:  Murugan MK\n",
      "Age:  44\n",
      "Profession:  Software Engineer\n"
     ]
    }
   ],
   "source": [
    "name=input(\"Your Name: \")\n",
    "age=int(input(\"Your Age: \"))\n",
    "profession=input(\"Your Profession: \")\n",
    "\n",
    "print(\"Name: \",name)\n",
    "print(\"Age: \", age)\n",
    "print(\"Profession: \", profession)"
   ]
  },
  {
   "cell_type": "markdown",
   "id": "592baeb3",
   "metadata": {},
   "source": [
    "# Print this mixered datatype using Tuples"
   ]
  },
  {
   "cell_type": "code",
   "execution_count": 3,
   "id": "3e9f4539",
   "metadata": {},
   "outputs": [
    {
     "name": "stdout",
     "output_type": "stream",
     "text": [
      "(1, 'Welcome', 2, 'Hope')\n"
     ]
    }
   ],
   "source": [
    "tuple=(1, 'Welcome', 2, 'Hope')\n",
    "print(tuple)"
   ]
  },
  {
   "cell_type": "markdown",
   "id": "2a38f514",
   "metadata": {},
   "source": [
    "# Refer this link : https://www.geeksforgeeks.org/python-tuples/\n",
    "Tuple1 = (0, 1, 2, 3)"
   ]
  },
  {
   "cell_type": "code",
   "execution_count": 8,
   "id": "70358581",
   "metadata": {},
   "outputs": [
    {
     "name": "stdout",
     "output_type": "stream",
     "text": [
      "((0, 1, 2, 3), ('python', 'HOPE'))\n"
     ]
    }
   ],
   "source": [
    "Tuple1 = (0,1,2,3)\n",
    "Tuple2 = ('python','HOPE')\n",
    "print((Tuple1,Tuple2))"
   ]
  },
  {
   "cell_type": "markdown",
   "id": "b41cab35",
   "metadata": {},
   "source": [
    "# print Odd Numbers in the list\n",
    "list=(20,10,16,19,25,1,276,188)"
   ]
  },
  {
   "cell_type": "code",
   "execution_count": 13,
   "id": "74c35f91",
   "metadata": {},
   "outputs": [
    {
     "name": "stdout",
     "output_type": "stream",
     "text": [
      "19 is an odd number\n",
      "25 is an odd number\n",
      "1 is an odd number\n"
     ]
    }
   ],
   "source": [
    "list=[20,10,16,19,25,1,276,188]\n",
    "for number in list:\n",
    "    if number%2==1:\n",
    "        print(\"{0} is an odd number\".format(number))"
   ]
  },
  {
   "cell_type": "markdown",
   "id": "ef86c353",
   "metadata": {},
   "source": [
    "# print Even numbers in the list\n",
    "[20,10,16,19,25,1,276,188]"
   ]
  },
  {
   "cell_type": "code",
   "execution_count": 15,
   "id": "c810b812",
   "metadata": {},
   "outputs": [
    {
     "name": "stdout",
     "output_type": "stream",
     "text": [
      "20 is an even number\n",
      "10 is an even number\n",
      "16 is an even number\n",
      "276 is an even number\n",
      "188 is an even number\n"
     ]
    }
   ],
   "source": [
    "list=[20,10,16,19,25,1,276,188]\n",
    "for n in list:\n",
    "    if n%2!=1:\n",
    "        print(\"{0} is an even number\".format(n))"
   ]
  }
 ],
 "metadata": {
  "kernelspec": {
   "display_name": ".venv",
   "language": "python",
   "name": "python3"
  },
  "language_info": {
   "codemirror_mode": {
    "name": "ipython",
    "version": 3
   },
   "file_extension": ".py",
   "mimetype": "text/x-python",
   "name": "python",
   "nbconvert_exporter": "python",
   "pygments_lexer": "ipython3",
   "version": "3.12.0"
  }
 },
 "nbformat": 4,
 "nbformat_minor": 5
}
