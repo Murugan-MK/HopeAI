{
 "cells": [
  {
   "cell_type": "markdown",
   "id": "931d597b",
   "metadata": {},
   "source": [
    "#1. Create a class and function, and list out the items in the list"
   ]
  },
  {
   "cell_type": "markdown",
   "id": "dc7367c6",
   "metadata": {},
   "source": [
    "# Assigning courses to a list"
   ]
  },
  {
   "cell_type": "code",
   "execution_count": 6,
   "id": "dc5e4d69",
   "metadata": {},
   "outputs": [],
   "source": [
    "courses = [\"Machine Learning\", \"Neural Networks\", \"Vision\", \"Robotics\",\"Speech Processing\", \"Natural Language Processing\"]"
   ]
  },
  {
   "cell_type": "markdown",
   "id": "e160e149",
   "metadata": {},
   "source": [
    "# Creating a logic to display the list of courses"
   ]
  },
  {
   "cell_type": "code",
   "execution_count": 4,
   "id": "182a7aca",
   "metadata": {},
   "outputs": [
    {
     "name": "stdout",
     "output_type": "stream",
     "text": [
      "Sub-fields in AI are:\n",
      "Machine Learning\n",
      "Neural Networks\n",
      "Vision\n",
      "Robotics\n",
      "Speech Processing\n",
      "Natural Language Processing\n"
     ]
    }
   ],
   "source": [
    "print(\"Sub-fields in AI are:\")\n",
    "for course in courses:\n",
    "    print(course)"
   ]
  },
  {
   "cell_type": "markdown",
   "id": "632320f0",
   "metadata": {},
   "source": [
    "# Creating a function"
   ]
  },
  {
   "cell_type": "code",
   "execution_count": 8,
   "id": "c8842c58",
   "metadata": {},
   "outputs": [],
   "source": [
    "def Subfields():\n",
    "    print(\"Sub-fields in AI are:\")\n",
    "    for course in courses:\n",
    "        print(course)\n",
    "    "
   ]
  },
  {
   "cell_type": "markdown",
   "id": "732d1ada",
   "metadata": {},
   "source": [
    "# Calling Subfields() function"
   ]
  },
  {
   "cell_type": "code",
   "execution_count": 12,
   "id": "3fa8761e",
   "metadata": {},
   "outputs": [
    {
     "name": "stdout",
     "output_type": "stream",
     "text": [
      "Sub-fields in AI are:\n",
      "Machine Learning\n",
      "Neural Networks\n",
      "Vision\n",
      "Robotics\n",
      "Speech Processing\n",
      "Natural Language Processing\n"
     ]
    }
   ],
   "source": [
    "Subfields()"
   ]
  },
  {
   "cell_type": "markdown",
   "id": "11c835c1",
   "metadata": {},
   "source": [
    "# Converting the function into a class"
   ]
  },
  {
   "cell_type": "code",
   "execution_count": 10,
   "id": "25b17800",
   "metadata": {},
   "outputs": [],
   "source": [
    "class SubfieldsInAI():\n",
    "    def Subfields():\n",
    "        print(\"Sub-fields in AI are:\")\n",
    "        for course in courses:\n",
    "            print(course)\n"
   ]
  },
  {
   "cell_type": "markdown",
   "id": "86fbaf98",
   "metadata": {},
   "source": [
    "# Creating an object from class"
   ]
  },
  {
   "cell_type": "code",
   "execution_count": 13,
   "id": "da7b8b90",
   "metadata": {},
   "outputs": [
    {
     "name": "stdout",
     "output_type": "stream",
     "text": [
      "Sub-fields in AI are:\n",
      "Machine Learning\n",
      "Neural Networks\n",
      "Vision\n",
      "Robotics\n",
      "Speech Processing\n",
      "Natural Language Processing\n"
     ]
    }
   ],
   "source": [
    "AICourses=SubfieldsInAI.Subfields()\n",
    "AICourses"
   ]
  },
  {
   "cell_type": "markdown",
   "id": "e10bce86",
   "metadata": {},
   "source": [
    "#2. # Create a function that checks whether the given number is Odd or Even"
   ]
  },
  {
   "cell_type": "markdown",
   "id": "76a4379f",
   "metadata": {},
   "source": [
    "# Creating a function to check odd or even"
   ]
  },
  {
   "cell_type": "code",
   "execution_count": 16,
   "id": "6219f9ce",
   "metadata": {},
   "outputs": [],
   "source": [
    "def OddEven():\n",
    "    number = int(input(\"Enter a number: \"))\n",
    "    if number%2==1:\n",
    "        print(\"{0} is Odd number\".format(number))\n",
    "    else:\n",
    "        print(\"{0} is Even number\".format(number))\n",
    "\n"
   ]
  },
  {
   "cell_type": "code",
   "execution_count": 17,
   "id": "f55dc229",
   "metadata": {},
   "outputs": [
    {
     "name": "stdout",
     "output_type": "stream",
     "text": [
      "87 is Odd number\n"
     ]
    }
   ],
   "source": [
    "OddEven()"
   ]
  },
  {
   "cell_type": "markdown",
   "id": "5ea300f6",
   "metadata": {},
   "source": [
    "#3. Create a function that tells eligibility of marriage for male and female according to their age limit like 21 for male and 18 for female\n"
   ]
  },
  {
   "cell_type": "code",
   "execution_count": 25,
   "id": "a865055e",
   "metadata": {},
   "outputs": [],
   "source": [
    "class ElegiblityForMarriage():\n",
    "    def Elegible():\n",
    "        gender=input(\"Your Gender:\")\n",
    "        try:\n",
    "            age = int(input(\"Your age: \"))\n",
    "            if gender.lower()=='male' and age>=21:\n",
    "                print(\"ELIGIBLE\")\n",
    "            elif (gender.lower()=='female') and (age>=18):\n",
    "                print(\"ELIGIBLE\")\n",
    "            else:\n",
    "                print(\"NOT ELIGIBLE\")\n",
    "        except ValueError:\n",
    "            print(\"Please enter a valid age (numeric number)\")"
   ]
  },
  {
   "cell_type": "code",
   "execution_count": 27,
   "id": "336ba4e5",
   "metadata": {},
   "outputs": [
    {
     "name": "stdout",
     "output_type": "stream",
     "text": [
      "ELIGIBLE\n"
     ]
    }
   ],
   "source": [
    "ElegiblityForMarriage.Elegible()"
   ]
  },
  {
   "cell_type": "markdown",
   "id": "9a5a9e0e",
   "metadata": {},
   "source": [
    "#4. calculate the percentage of your 10th mark\n"
   ]
  },
  {
   "cell_type": "code",
   "execution_count": 37,
   "id": "91dcf9de",
   "metadata": {},
   "outputs": [],
   "source": [
    "class FindPercent():\n",
    "    @staticmethod\n",
    "    def percentage():\n",
    "        subject1=98\n",
    "        subject2=87\n",
    "        subject3=95\n",
    "        subject4=95\n",
    "        subject5=93\n",
    "        Total=subject1+subject2+subject3+subject4+subject5\n",
    "        percent=Total/500*100\n",
    "        \n",
    "        print(\"Subject1:\",subject1)\n",
    "        print(\"Subject2:\",subject2)\n",
    "        print(\"Subject3:\",subject3)\n",
    "        print(\"Subject4:\",subject4)\n",
    "        print(\"Subject5:\",subject5)\n",
    "        print(\"Total : \", Total)\n",
    "        print(\"Percentage : \",float(percent))"
   ]
  },
  {
   "cell_type": "code",
   "execution_count": 38,
   "id": "5e6d04c3",
   "metadata": {},
   "outputs": [
    {
     "name": "stdout",
     "output_type": "stream",
     "text": [
      "Subject1: 98\n",
      "Subject2: 87\n",
      "Subject3: 95\n",
      "Subject4: 95\n",
      "Subject5: 93\n",
      "Total :  468\n",
      "Percentage :  93.60000000000001\n"
     ]
    }
   ],
   "source": [
    "FindPercent.percentage()"
   ]
  },
  {
   "cell_type": "markdown",
   "id": "af8a24cb",
   "metadata": {},
   "source": [
    "#  5. print area and perimeter of triangle using class and functions\n"
   ]
  },
  {
   "cell_type": "code",
   "execution_count": 41,
   "id": "b048557b",
   "metadata": {},
   "outputs": [],
   "source": [
    "class triangle():\n",
    "    def triangle():\n",
    "        # Area of triangle\n",
    "        height=int(input(\"Enter Height:\"))\n",
    "        breadth= int(input(\"Enter Breadth: \"))\n",
    "        area=(height*breadth/2)\n",
    "\n",
    "        # Perimeter of triangle\n",
    "        height1=int(input(\"Enter Height1:\"))\n",
    "        height2=int(input(\"Enter Height2:\"))\n",
    "        breadth= int(input(\"Enter Breadth: \"))\n",
    "        perimeter=height1+height2+breadth\n",
    "\n",
    "        print(\"Height:\",height)\n",
    "        print(\"Breadth:\",breadth)\n",
    "        print(\"Area formula: (Height*Breadth/2)\")\n",
    "        print(\"Area of Triangle: \",area)\n",
    "        print(\"Height1:\",height1)\n",
    "        print(\"Height2: \",height2)\n",
    "        print(\"Breadth:\",breadth)\n",
    "        print(\"Perimeter formula: Height1+Height2+Breadth\")\n",
    "        print(\"Perimeter of Triangle: \",perimeter)\n",
    "\n"
   ]
  },
  {
   "cell_type": "code",
   "execution_count": 42,
   "id": "f6ce8a87",
   "metadata": {},
   "outputs": [
    {
     "name": "stdout",
     "output_type": "stream",
     "text": [
      "Height: 32\n",
      "Breadth: 4\n",
      "Area formula: (Height*Breadth/2)\n",
      "Area of Triangle:  544.0\n",
      "Height1: 2\n",
      "Height2:  4\n",
      "Breadth: 4\n",
      "Perimeter formula: Height1+Height2+Breadth\n",
      "Perimeter of Triangle:  10\n"
     ]
    }
   ],
   "source": [
    "triangle.triangle()"
   ]
  }
 ],
 "metadata": {
  "kernelspec": {
   "display_name": "base",
   "language": "python",
   "name": "python3"
  },
  "language_info": {
   "codemirror_mode": {
    "name": "ipython",
    "version": 3
   },
   "file_extension": ".py",
   "mimetype": "text/x-python",
   "name": "python",
   "nbconvert_exporter": "python",
   "pygments_lexer": "ipython3",
   "version": "3.13.5"
  }
 },
 "nbformat": 4,
 "nbformat_minor": 5
}
