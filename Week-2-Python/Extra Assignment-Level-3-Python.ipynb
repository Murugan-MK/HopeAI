{
 "cells": [
  {
   "cell_type": "markdown",
   "id": "23fcc561",
   "metadata": {},
   "source": [
    "# print 'CORRECT' if i == 10"
   ]
  },
  {
   "cell_type": "code",
   "execution_count": 2,
   "id": "304b1916",
   "metadata": {},
   "outputs": [],
   "source": [
    "i = int(input(\"Enter a number: \"))\n",
    "if i==10:\n",
    "    print(\"Value:\",i)\n",
    "    print(\"Correct\")"
   ]
  },
  {
   "cell_type": "markdown",
   "id": "4d7b13ba",
   "metadata": {},
   "source": [
    "# Check the password, using if and else"
   ]
  },
  {
   "cell_type": "code",
   "execution_count": 3,
   "id": "3a3979f4",
   "metadata": {},
   "outputs": [
    {
     "name": "stdout",
     "output_type": "stream",
     "text": [
      "Your password is correct\n"
     ]
    }
   ],
   "source": [
    "password = input(\"Enter the password:\")\n",
    "if password == \"HOPE@123\":\n",
    "    print(\"Your password is correct\")"
   ]
  },
  {
   "cell_type": "markdown",
   "id": "824aa20f",
   "metadata": {},
   "source": [
    "# Catagory the people by their age like children, adult, citizen, senior citizen..."
   ]
  },
  {
   "cell_type": "code",
   "execution_count": 11,
   "id": "58d7294f",
   "metadata": {},
   "outputs": [
    {
     "name": "stdout",
     "output_type": "stream",
     "text": [
      "children\n"
     ]
    }
   ],
   "source": [
    "age = int(input(\"Enter your age:\"))\n",
    "if age<=18:\n",
    "    print(\"children\")\n",
    "elif age<=35:\n",
    "    print(\"Adult\")\n",
    "elif age <=59:\n",
    "    print(\"citizen\")\n",
    "else:\n",
    "    print(\"Senior citizen\")"
   ]
  },
  {
   "cell_type": "markdown",
   "id": "bdba552e",
   "metadata": {},
   "source": [
    "# Find whether given number is positive or negative"
   ]
  },
  {
   "cell_type": "code",
   "execution_count": 15,
   "id": "928dfa77",
   "metadata": {},
   "outputs": [
    {
     "name": "stdout",
     "output_type": "stream",
     "text": [
      "-11 is negative\n"
     ]
    }
   ],
   "source": [
    "number = int(input(\"Enter any number: \"))\n",
    "if number>0:\n",
    "    print(\"{0} is possitive\".format(number))\n",
    "elif number==0:\n",
    "    print(\"{0} is zero\".format(number))\n",
    "elif number <0:\n",
    "    print(\"{0} is negative\".format(number))\n",
    "else:\n",
    "    print(\"Enter a valid number\")"
   ]
  },
  {
   "cell_type": "markdown",
   "id": "37babd50",
   "metadata": {},
   "source": [
    "# Check whether the given number is divisible by 5"
   ]
  },
  {
   "cell_type": "code",
   "execution_count": 18,
   "id": "f6fe8940",
   "metadata": {},
   "outputs": [
    {
     "name": "stdout",
     "output_type": "stream",
     "text": [
      "25 is divisible by 5\n"
     ]
    }
   ],
   "source": [
    "number = int(input(\"Enter a number to check:\"))\n",
    "if number%5==0:\n",
    "    print(\"{0} is divisible by 5\".format(number))\n",
    "else:\n",
    "    print(\"{0} is not divisible by 5\".format(number))"
   ]
  }
 ],
 "metadata": {
  "kernelspec": {
   "display_name": ".venv",
   "language": "python",
   "name": "python3"
  },
  "language_info": {
   "codemirror_mode": {
    "name": "ipython",
    "version": 3
   },
   "file_extension": ".py",
   "mimetype": "text/x-python",
   "name": "python",
   "nbconvert_exporter": "python",
   "pygments_lexer": "ipython3",
   "version": "3.12.0"
  }
 },
 "nbformat": 4,
 "nbformat_minor": 5
}
