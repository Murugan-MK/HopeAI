{
 "cells": [
  {
   "cell_type": "markdown",
   "id": "7da20ecf",
   "metadata": {},
   "source": [
    "# print Statement\n"
   ]
  },
  {
   "cell_type": "code",
   "execution_count": 2,
   "id": "cfec8442",
   "metadata": {},
   "outputs": [
    {
     "name": "stdout",
     "output_type": "stream",
     "text": [
      "HOPE AI\n"
     ]
    }
   ],
   "source": [
    "print(\"HOPE AI\")"
   ]
  },
  {
   "cell_type": "markdown",
   "id": "2bee0b4c",
   "metadata": {},
   "source": [
    "# Buy input"
   ]
  },
  {
   "cell_type": "code",
   "execution_count": 3,
   "id": "95a13eea",
   "metadata": {},
   "outputs": [
    {
     "name": "stdout",
     "output_type": "stream",
     "text": [
      "HopeAI\n"
     ]
    }
   ],
   "source": [
    "instName=input(\"Enter your institute name?:\")\n",
    "print(instName)"
   ]
  },
  {
   "cell_type": "markdown",
   "id": "f0f8f817",
   "metadata": {},
   "source": [
    "# Buy inputs"
   ]
  },
  {
   "cell_type": "code",
   "execution_count": 4,
   "id": "0942ce3b",
   "metadata": {},
   "outputs": [
    {
     "name": "stdout",
     "output_type": "stream",
     "text": [
      "Name:  Murugan MK\n",
      "Age:  44\n",
      "School Name:  Alm\n",
      "Degree Name:  MCA\n"
     ]
    }
   ],
   "source": [
    "name=input(\"Enter your name:\")\n",
    "age=int(input(\"Enter your age\"))\n",
    "schoolName=input(\"Enter your school name:\")\n",
    "degreeName=input(\"Enter your drgree:\")\n",
    "\n",
    "print(\"Name: \",name)\n",
    "print(\"Age: \", age)\n",
    "print(\"School Name: \",schoolName)\n",
    "print(\"Degree Name: \",degreeName)"
   ]
  },
  {
   "cell_type": "markdown",
   "id": "72a93a67",
   "metadata": {},
   "source": [
    "# Addition"
   ]
  },
  {
   "cell_type": "code",
   "execution_count": 5,
   "id": "b5c17dd2",
   "metadata": {},
   "outputs": [
    {
     "name": "stdout",
     "output_type": "stream",
     "text": [
      "a 43\n",
      "b 34\n",
      "addition 77\n"
     ]
    }
   ],
   "source": [
    "a= 43\n",
    "b= 34\n",
    "add = a+b\n",
    "\n",
    "print(\"a\",a)\n",
    "print(\"b\",b)\n",
    "print(\"addition\",add)\n"
   ]
  },
  {
   "cell_type": "markdown",
   "id": "d1a50377",
   "metadata": {},
   "source": [
    "# Subtraction"
   ]
  },
  {
   "cell_type": "code",
   "execution_count": 6,
   "id": "5bc6a1ab",
   "metadata": {},
   "outputs": [
    {
     "name": "stdout",
     "output_type": "stream",
     "text": [
      "a 43\n",
      "b 34\n",
      "Subtraction:  9\n"
     ]
    }
   ],
   "source": [
    "a= 43\n",
    "b= 34\n",
    "Sub = a-b\n",
    "print(\"a\",a)\n",
    "print(\"b\",b)\n",
    "print(\"Subtraction: \",Sub)\n"
   ]
  },
  {
   "cell_type": "markdown",
   "id": "4d37e447",
   "metadata": {},
   "source": [
    "# Multiplication"
   ]
  },
  {
   "cell_type": "code",
   "execution_count": 7,
   "id": "a0599eec",
   "metadata": {},
   "outputs": [
    {
     "name": "stdout",
     "output_type": "stream",
     "text": [
      "a 63\n",
      "b 97\n",
      "Multiplication:  6111\n"
     ]
    }
   ],
   "source": [
    "a= 63\n",
    "b= 97\n",
    "Mul = a*b\n",
    "\n",
    "print(\"a\",a)\n",
    "print(\"b\",b)\n",
    "print(\"Multiplication: \",Mul)\n"
   ]
  },
  {
   "cell_type": "markdown",
   "id": "0e31208f",
   "metadata": {},
   "source": [
    "# Division"
   ]
  },
  {
   "cell_type": "code",
   "execution_count": null,
   "id": "5a86add0",
   "metadata": {},
   "outputs": [
    {
     "name": "stdout",
     "output_type": "stream",
     "text": [
      "a 76\n",
      "b 31\n",
      "Division:  2.4516129032258065\n"
     ]
    }
   ],
   "source": [
    "a= 76\n",
    "b= 31\n",
    "Float_Div = a/b\n",
    "print(\"a\",a)\n",
    "print(\"b\",b)\n",
    "print(\"Division: \",Float_Div)\n"
   ]
  },
  {
   "cell_type": "markdown",
   "id": "0cb4687c",
   "metadata": {},
   "source": [
    "# Floor Division"
   ]
  },
  {
   "cell_type": "code",
   "execution_count": 10,
   "id": "1fbbafaa",
   "metadata": {},
   "outputs": [
    {
     "name": "stdout",
     "output_type": "stream",
     "text": [
      "a 76\n",
      "b 31\n",
      "Division:  2\n"
     ]
    }
   ],
   "source": [
    "a= 76\n",
    "b= 31\n",
    "Floor_Div = a//b\n",
    "print(\"a\",a)\n",
    "print(\"b\",b)\n",
    "print(\"Division: \",Floor_Div)\n"
   ]
  },
  {
   "cell_type": "markdown",
   "id": "e97bb7ec",
   "metadata": {},
   "source": [
    "# Modulo"
   ]
  },
  {
   "cell_type": "code",
   "execution_count": 11,
   "id": "b5a487c1",
   "metadata": {},
   "outputs": [
    {
     "name": "stdout",
     "output_type": "stream",
     "text": [
      "a 76\n",
      "b 31\n",
      "Modulus:  14\n"
     ]
    }
   ],
   "source": [
    "a= 76\n",
    "b= 31\n",
    "Modulo = a%b\n",
    "print(\"a\",a)\n",
    "print(\"b\",b)\n",
    "print(\"Modulus: \", Modulo)\n",
    "\n"
   ]
  },
  {
   "cell_type": "markdown",
   "id": "9661674d",
   "metadata": {},
   "source": [
    "# Power"
   ]
  },
  {
   "cell_type": "code",
   "execution_count": 12,
   "id": "3f7c62fd",
   "metadata": {},
   "outputs": [
    {
     "name": "stdout",
     "output_type": "stream",
     "text": [
      "a 4\n",
      "b 4\n",
      "Power:  256\n"
     ]
    }
   ],
   "source": [
    "a= 4\n",
    "b= 4\n",
    "Power = a**b\n",
    "print(\"a\",a)\n",
    "print(\"b\",b)\n",
    "print(\"Power: \", Power)\n",
    "\n"
   ]
  }
 ],
 "metadata": {
  "kernelspec": {
   "display_name": ".venv",
   "language": "python",
   "name": "python3"
  },
  "language_info": {
   "codemirror_mode": {
    "name": "ipython",
    "version": 3
   },
   "file_extension": ".py",
   "mimetype": "text/x-python",
   "name": "python",
   "nbconvert_exporter": "python",
   "pygments_lexer": "ipython3",
   "version": "3.12.0"
  }
 },
 "nbformat": 4,
 "nbformat_minor": 5
}
