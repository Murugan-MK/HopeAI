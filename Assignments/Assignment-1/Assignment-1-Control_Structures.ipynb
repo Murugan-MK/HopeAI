{
 "cells": [
  {
   "cell_type": "markdown",
   "id": "f929fbe3",
   "metadata": {},
   "source": [
    "Assignment-1-Control Structures-Question"
   ]
  },
  {
   "cell_type": "code",
   "execution_count": 1,
   "id": "8caa38ba",
   "metadata": {},
   "outputs": [
    {
     "name": "stdout",
     "output_type": "stream",
     "text": [
      "Welcome to Assignment-1\n"
     ]
    }
   ],
   "source": [
    "print(\"Welcome to Assignment-1\")"
   ]
  },
  {
   "cell_type": "code",
   "execution_count": 4,
   "id": "952efe9a",
   "metadata": {},
   "outputs": [
    {
     "name": "stdout",
     "output_type": "stream",
     "text": [
      "Num1= 10\n",
      "Num2= 30\n",
      "Add= 40\n"
     ]
    }
   ],
   "source": [
    "Num1=10\n",
    "Num2=30\n",
    "print(\"Num1=\",Num1)\n",
    "print(\"Num2=\",Num2)\n",
    "Add=Num1+Num2\n",
    "print(\"Add=\",Add)\n"
   ]
  },
  {
   "cell_type": "markdown",
   "id": "067b63af",
   "metadata": {},
   "source": [
    "#Body Mass Index\n",
    "# Body Mass Index (BMI) can be calculated by dividing weight/height*height"
   ]
  },
  {
   "cell_type": "code",
   "execution_count": 9,
   "id": "8adc517c",
   "metadata": {},
   "outputs": [
    {
     "name": "stdout",
     "output_type": "stream",
     "text": [
      "Obesity\n"
     ]
    }
   ],
   "source": [
    "bmi = float(input(\"Enter the BMI Index:\"))\n",
    "if (bmi <18.0):\n",
    "    print(\"Underweight\")\n",
    "elif (bmi >= 18.0 and bmi < 25.0):\n",
    "    print(\"Normal weight\")\n",
    "elif (bmi >= 25.0 and bmi < 30.0):\n",
    "    print(\"Overweight\")\n",
    "else:\n",
    "    print(\"Obesity\")\n"
   ]
  }
 ],
 "metadata": {
  "kernelspec": {
   "display_name": "base",
   "language": "python",
   "name": "python3"
  },
  "language_info": {
   "codemirror_mode": {
    "name": "ipython",
    "version": 3
   },
   "file_extension": ".py",
   "mimetype": "text/x-python",
   "name": "python",
   "nbconvert_exporter": "python",
   "pygments_lexer": "ipython3",
   "version": "3.11.5"
  }
 },
 "nbformat": 4,
 "nbformat_minor": 5
}
